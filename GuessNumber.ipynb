{
 "cells": [
  {
   "cell_type": "code",
   "execution_count": null,
   "metadata": {},
   "outputs": [],
   "source": [
    "# set end point of a line segment \n",
    "a, b =  0, 100\n",
    "\n",
    "# set bool if we guessed our value\n",
    "guessed = False "
   ]
  },
  {
   "cell_type": "code",
   "execution_count": null,
   "metadata": {},
   "outputs": [],
   "source": [
    "print ('Please think of a number between 0 and 100!')"
   ]
  },
  {
   "cell_type": "code",
   "execution_count": null,
   "metadata": {},
   "outputs": [],
   "source": [
    "while (not guessed):\n",
    "    # recalculate the endpoints using the bisection method\n",
    "    guess = int((a+b)/2)\n",
    "    \n",
    "    print ('Is your secret number {}?'.format(guess))\n",
    "    \n",
    "    # check for the answers\n",
    "    ans = input(\"Enter 'h' to indicate the guess is too high. Enter 'l' to indicate the guess is too low. Enter 'c' to indicate I guessed correctly.\")\n",
    "    \n",
    "    if ans == 'h':\n",
    "        b = guess\n",
    "    elif ans == 'l':\n",
    "        a = guess\n",
    "    elif ans == 'c':\n",
    "        print ('Game over. Your secret number was: ', guess)\n",
    "        \n",
    "        # show correct value and finish\n",
    "        guessed = True\n",
    "    else: \n",
    "        print ('Sorry, I did not understand your input.')   "
   ]
  },
  {
   "cell_type": "code",
   "execution_count": null,
   "metadata": {},
   "outputs": [],
   "source": []
  }
 ],
 "metadata": {
  "kernelspec": {
   "display_name": "Python 3",
   "language": "python",
   "name": "python3"
  },
  "language_info": {
   "codemirror_mode": {
    "name": "ipython",
    "version": 3
   },
   "file_extension": ".py",
   "mimetype": "text/x-python",
   "name": "python",
   "nbconvert_exporter": "python",
   "pygments_lexer": "ipython3",
   "version": "3.6.4"
  }
 },
 "nbformat": 4,
 "nbformat_minor": 2
}
