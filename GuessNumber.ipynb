{
  "nbformat": 4,
  "nbformat_minor": 0,
  "metadata": {
    "colab": {
      "name": "GuessNumber.ipynb",
      "version": "0.3.2",
      "provenance": []
    },
    "kernelspec": {
      "display_name": "Python 3",
      "language": "python",
      "name": "python3"
    }
  },
  "cells": [
    {
      "metadata": {
        "id": "EbLnx0dUsPZs",
        "colab_type": "code",
        "colab": {}
      },
      "cell_type": "code",
      "source": [
        "# set end point of a line segment \n",
        "a, b =  0, 100\n",
        "\n",
        "# set bool if we guessed our value\n",
        "guessed = False "
      ],
      "execution_count": 0,
      "outputs": []
    },
    {
      "metadata": {
        "id": "Bf6QcbHYsPZ6",
        "colab_type": "code",
        "colab": {
          "base_uri": "https://localhost:8080/",
          "height": 34
        },
        "outputId": "a6a70928-eeb4-4fe4-f437-d5816a80693d"
      },
      "cell_type": "code",
      "source": [
        "print ('Please think of a number between 0 and 100!')"
      ],
      "execution_count": 0,
      "outputs": [
        {
          "output_type": "stream",
          "text": [
            "Please think of a number between 0 and 100!\n"
          ],
          "name": "stdout"
        }
      ]
    },
    {
      "metadata": {
        "id": "ces-7ajUsPaA",
        "colab_type": "code",
        "colab": {
          "base_uri": "https://localhost:8080/",
          "height": 238
        },
        "outputId": "98b5bfb1-6a12-478e-c7c6-cfa8534755c4"
      },
      "cell_type": "code",
      "source": [
        "while (not guessed):\n",
        "    # recalculate the endpoints using the bisection method\n",
        "    guess = int((a+b)/2)\n",
        "    \n",
        "    print ('Is your secret number {}?'.format(guess))\n",
        "    \n",
        "    # check for the answers\n",
        "    ans = input(\"Enter 'h' to indicate the guess is too high. Enter 'l' to indicate the guess is too low. Enter 'c' to indicate I guessed correctly.\")\n",
        "    \n",
        "    if ans == 'h':\n",
        "        b = guess\n",
        "    elif ans == 'l':\n",
        "        a = guess\n",
        "    elif ans == 'c':\n",
        "        print ('Game over. Your secret number was: ', guess)\n",
        "        \n",
        "        # show correct value and finish\n",
        "        guessed = True\n",
        "    else: \n",
        "        print ('Sorry, I did not understand your input.')   "
      ],
      "execution_count": 0,
      "outputs": [
        {
          "output_type": "stream",
          "text": [
            "Is your secret number 50?\n",
            "Enter 'h' to indicate the guess is too high. Enter 'l' to indicate the guess is too low. Enter 'c' to indicate I guessed correctly.h\n",
            "Is your secret number 25?\n",
            "Enter 'h' to indicate the guess is too high. Enter 'l' to indicate the guess is too low. Enter 'c' to indicate I guessed correctly.l\n",
            "Is your secret number 37?\n",
            "Enter 'h' to indicate the guess is too high. Enter 'l' to indicate the guess is too low. Enter 'c' to indicate I guessed correctly.h\n",
            "Is your secret number 31?\n",
            "Enter 'h' to indicate the guess is too high. Enter 'l' to indicate the guess is too low. Enter 'c' to indicate I guessed correctly.l\n",
            "Is your secret number 34?\n",
            "Enter 'h' to indicate the guess is too high. Enter 'l' to indicate the guess is too low. Enter 'c' to indicate I guessed correctly.h\n",
            "Is your secret number 32?\n",
            "Enter 'h' to indicate the guess is too high. Enter 'l' to indicate the guess is too low. Enter 'c' to indicate I guessed correctly.c\n",
            "Game over. Your secret number was:  32\n"
          ],
          "name": "stdout"
        }
      ]
    }
  ]
}