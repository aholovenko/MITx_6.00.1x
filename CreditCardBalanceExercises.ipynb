{
 "cells": [
  {
   "cell_type": "markdown",
   "metadata": {},
   "source": [
    "# Problem 1"
   ]
  },
  {
   "cell_type": "code",
   "execution_count": 1,
   "metadata": {},
   "outputs": [],
   "source": [
    "# Test case 1\n",
    "monthlyPaymentRate = 0.04\n",
    "balance = 3329\n",
    "annualInterestRate = 0.2"
   ]
  },
  {
   "cell_type": "code",
   "execution_count": 2,
   "metadata": {},
   "outputs": [
    {
     "name": "stdout",
     "output_type": "stream",
     "text": [
      "Remaining balance:  2487.21\n"
     ]
    }
   ],
   "source": [
    "'''\n",
    "@author: aholovenko\n",
    "\n",
    "balance: the outstanding balance on the credit card (int)\n",
    "annualInterestRate: annual interest rate as a decimal (float)\n",
    "monthlyPaymentRate: minimum monthly payment rate as a decimal (float) \n",
    "\n",
    "return: balance (float, 2)\n",
    "'''\n",
    "for i in range(12):\n",
    "    balance = (1 - monthlyPaymentRate) * balance * (1 + (annualInterestRate / 12))\n",
    "    \n",
    "print (\"Remaining balance: \", round(balance, 2))"
   ]
  },
  {
   "cell_type": "markdown",
   "metadata": {},
   "source": [
    "# Problem 2"
   ]
  },
  {
   "cell_type": "code",
   "execution_count": 3,
   "metadata": {},
   "outputs": [],
   "source": [
    "# Test case 1\n",
    "balance = 3329\n",
    "annualInterestRate = 0.2"
   ]
  },
  {
   "cell_type": "code",
   "execution_count": 4,
   "metadata": {},
   "outputs": [
    {
     "name": "stdout",
     "output_type": "stream",
     "text": [
      "Lowest payment:  310\n"
     ]
    }
   ],
   "source": [
    "'''\n",
    "@author: aholovenko\n",
    "\n",
    "balance: the outstanding balance on the credit card (int)\n",
    "annualInterestRate: annual interest rate as a decimal (float)\n",
    "\n",
    "return: monthlyPayment (float, 0)\n",
    "'''\n",
    "b0 = balance\n",
    "monthlyPayment = 0\n",
    "\n",
    "while (balance > 0):\n",
    "    balance  = b0\n",
    "    monthlyPayment += 10\n",
    "    for i in range(12):\n",
    "        balance = (balance - monthlyPayment) * (1 + (annualInterestRate / 12))\n",
    "    \n",
    "print (\"Lowest payment: \", round (monthlyPayment, 0))"
   ]
  },
  {
   "cell_type": "markdown",
   "metadata": {},
   "source": [
    "# Problem 3"
   ]
  },
  {
   "cell_type": "code",
   "execution_count": 5,
   "metadata": {},
   "outputs": [],
   "source": [
    "# Test case 1\n",
    "balance = 320000\n",
    "annualInterestRate = 0.2"
   ]
  },
  {
   "cell_type": "code",
   "execution_count": 6,
   "metadata": {},
   "outputs": [
    {
     "name": "stdout",
     "output_type": "stream",
     "text": [
      "Monthly payment:  29157.09\n"
     ]
    }
   ],
   "source": [
    "'''\n",
    "@author: aholovenko\n",
    "\n",
    "balance: the outstanding balance on the credit card (int)\n",
    "annualInterestRate: annual interest rate as a decimal (float)\n",
    "\n",
    "return: monthlyPayment (float, 2)\n",
    "'''\n",
    "# remember our starting balance\n",
    "b0 = balance\n",
    "\n",
    "# initialize our bounds\n",
    "monthlyPaymentLower = b0/12.0\n",
    "monthlyPaymentUpper = b0*(1+annualInterestRate)**12/12.0\n",
    "\n",
    "# set an epsilon value for the rounding of the answer\n",
    "epsilon = 0.01\n",
    "\n",
    "while (abs (balance) >= epsilon):\n",
    "    # reinitialize the balance\n",
    "    balance  = b0    \n",
    "    # calculate the midpoint of the line segment\n",
    "    monthlyPayment = (monthlyPaymentLower + monthlyPaymentUpper)/2\n",
    "    # predict the balance\n",
    "    for i in range(12):\n",
    "        balance = (balance - monthlyPayment) * (1 + (annualInterestRate / 12))\n",
    "    # if balance is negative - monthly payment is too high\n",
    "    if (balance < 0):\n",
    "        monthlyPaymentUpper = monthlyPayment\n",
    "    # if balance is positive - monthly payment is too low\n",
    "    if (balance > 0):\n",
    "        monthlyPaymentLower = monthlyPayment\n",
    "        \n",
    "print (\"Monthly payment: \", round (monthlyPayment, 2))"
   ]
  },
  {
   "cell_type": "code",
   "execution_count": null,
   "metadata": {},
   "outputs": [],
   "source": []
  }
 ],
 "metadata": {
  "kernelspec": {
   "display_name": "Python 3",
   "language": "python",
   "name": "python3"
  },
  "language_info": {
   "codemirror_mode": {
    "name": "ipython",
    "version": 3
   },
   "file_extension": ".py",
   "mimetype": "text/x-python",
   "name": "python",
   "nbconvert_exporter": "python",
   "pygments_lexer": "ipython3",
   "version": "3.6.4"
  }
 },
 "nbformat": 4,
 "nbformat_minor": 2
}
