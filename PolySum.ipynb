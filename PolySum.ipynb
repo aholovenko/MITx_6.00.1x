{
 "cells": [
  {
   "cell_type": "code",
   "execution_count": 4,
   "metadata": {},
   "outputs": [],
   "source": [
    "# import library \n",
    "import math"
   ]
  },
  {
   "cell_type": "code",
   "execution_count": 8,
   "metadata": {},
   "outputs": [],
   "source": [
    "# define function polysum with two inside functions of area and perimeter\n",
    "def polysum (n,s):    \n",
    "    '''\n",
    "    n: number of sides of a polygon (int)\n",
    "    s: length of the side (int)\n",
    "\n",
    "    return: sum of area and perimiter squares (float, 4)\n",
    "    '''\n",
    "    def area (n,s):\n",
    "        return (n*s**2)/(4*math.tan(math.pi/n))\n",
    "    def per (n,s):\n",
    "        return n*s\n",
    "    # return sum of the area and squared perimeter\n",
    "    return round (area(n,s) + per(n,s)**2, 4)"
   ]
  },
  {
   "cell_type": "code",
   "execution_count": 9,
   "metadata": {},
   "outputs": [
    {
     "name": "stdout",
     "output_type": "stream",
     "text": [
      "9.433\n"
     ]
    }
   ],
   "source": [
    "# call a function\n",
    "print(polysum (3,1))"
   ]
  }
 ],
 "metadata": {
  "kernelspec": {
   "display_name": "Python 3",
   "language": "python",
   "name": "python3"
  },
  "language_info": {
   "codemirror_mode": {
    "name": "ipython",
    "version": 3
   },
   "file_extension": ".py",
   "mimetype": "text/x-python",
   "name": "python",
   "nbconvert_exporter": "python",
   "pygments_lexer": "ipython3",
   "version": "3.6.4"
  }
 },
 "nbformat": 4,
 "nbformat_minor": 2
}
