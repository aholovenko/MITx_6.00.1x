{
 "cells": [
  {
   "cell_type": "code",
   "execution_count": 23,
   "metadata": {},
   "outputs": [],
   "source": [
    "def isIn(char, aStr):\n",
    "    '''\n",
    "    char : character we are trying to find (char)\n",
    "    aStr : string we check for a character (str)\n",
    "    \n",
    "    return: char in aStr? (boolean)\n",
    "    '''\n",
    "    if aStr == '':\n",
    "        return False\n",
    "    if len(aStr) == 1:\n",
    "        return aStr == char\n",
    "    \n",
    "    current_char = aStr[len(aStr)//2]\n",
    "    if char == current_char:\n",
    "        return True    \n",
    "    if (char > current_char):\n",
    "        return isIn(char, aStr[len(aStr)//2 + 1:])\n",
    "    if (char < current_char):\n",
    "        return isIn(char, aStr[: len(aStr)//2])"
   ]
  },
  {
   "cell_type": "code",
   "execution_count": 28,
   "metadata": {},
   "outputs": [
    {
     "data": {
      "text/plain": [
       "True"
      ]
     },
     "execution_count": 28,
     "metadata": {},
     "output_type": "execute_result"
    }
   ],
   "source": [
    "isIn('e', 'egggg')"
   ]
  },
  {
   "cell_type": "code",
   "execution_count": 25,
   "metadata": {},
   "outputs": [
    {
     "data": {
      "text/plain": [
       "False"
      ]
     },
     "execution_count": 25,
     "metadata": {},
     "output_type": "execute_result"
    }
   ],
   "source": [
    "isIn('e', 'abcdfghijklmnopqrstuvwxyz')"
   ]
  }
 ],
 "metadata": {
  "kernelspec": {
   "display_name": "Python 3",
   "language": "python",
   "name": "python3"
  },
  "language_info": {
   "codemirror_mode": {
    "name": "ipython",
    "version": 3
   },
   "file_extension": ".py",
   "mimetype": "text/x-python",
   "name": "python",
   "nbconvert_exporter": "python",
   "pygments_lexer": "ipython3",
   "version": "3.6.4"
  }
 },
 "nbformat": 4,
 "nbformat_minor": 2
}
